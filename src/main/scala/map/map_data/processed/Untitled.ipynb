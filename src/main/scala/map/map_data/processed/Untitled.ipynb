{
 "cells": [
  {
   "cell_type": "code",
   "execution_count": 1,
   "id": "603720a1-c549-4624-bf8a-7febde0e972a",
   "metadata": {},
   "outputs": [],
   "source": [
    "import pandas as pd"
   ]
  },
  {
   "cell_type": "code",
   "execution_count": 9,
   "id": "e80b7898-74e3-4443-94c5-3133a26ee007",
   "metadata": {},
   "outputs": [
    {
     "data": {
      "text/html": [
       "<div>\n",
       "<style scoped>\n",
       "    .dataframe tbody tr th:only-of-type {\n",
       "        vertical-align: middle;\n",
       "    }\n",
       "\n",
       "    .dataframe tbody tr th {\n",
       "        vertical-align: top;\n",
       "    }\n",
       "\n",
       "    .dataframe thead th {\n",
       "        text-align: right;\n",
       "    }\n",
       "</style>\n",
       "<table border=\"1\" class=\"dataframe\">\n",
       "  <thead>\n",
       "    <tr style=\"text-align: right;\">\n",
       "      <th></th>\n",
       "      <th>start</th>\n",
       "      <th>end</th>\n",
       "      <th>length</th>\n",
       "      <th>bidirectional</th>\n",
       "      <th>name</th>\n",
       "    </tr>\n",
       "  </thead>\n",
       "  <tbody>\n",
       "    <tr>\n",
       "      <th>0</th>\n",
       "      <td>186</td>\n",
       "      <td>96267</td>\n",
       "      <td>57.00</td>\n",
       "      <td>True</td>\n",
       "      <td>Porvoonväylä</td>\n",
       "    </tr>\n",
       "    <tr>\n",
       "      <th>1</th>\n",
       "      <td>96267</td>\n",
       "      <td>69381</td>\n",
       "      <td>52.47</td>\n",
       "      <td>True</td>\n",
       "      <td>Porvoonväylä</td>\n",
       "    </tr>\n",
       "    <tr>\n",
       "      <th>2</th>\n",
       "      <td>69381</td>\n",
       "      <td>96244</td>\n",
       "      <td>74.90</td>\n",
       "      <td>True</td>\n",
       "      <td>Porvoonväylä</td>\n",
       "    </tr>\n",
       "    <tr>\n",
       "      <th>3</th>\n",
       "      <td>96244</td>\n",
       "      <td>163281</td>\n",
       "      <td>13.92</td>\n",
       "      <td>True</td>\n",
       "      <td>Porvoonväylä</td>\n",
       "    </tr>\n",
       "    <tr>\n",
       "      <th>4</th>\n",
       "      <td>163281</td>\n",
       "      <td>69351</td>\n",
       "      <td>60.85</td>\n",
       "      <td>True</td>\n",
       "      <td>Porvoonväylä</td>\n",
       "    </tr>\n",
       "  </tbody>\n",
       "</table>\n",
       "</div>"
      ],
      "text/plain": [
       "    start     end  length  bidirectional          name\n",
       "0     186   96267   57.00           True  Porvoonväylä\n",
       "1   96267   69381   52.47           True  Porvoonväylä\n",
       "2   69381   96244   74.90           True  Porvoonväylä\n",
       "3   96244  163281   13.92           True  Porvoonväylä\n",
       "4  163281   69351   60.85           True  Porvoonväylä"
      ]
     },
     "execution_count": 9,
     "metadata": {},
     "output_type": "execute_result"
    }
   ],
   "source": [
    "edges = pd.read_csv('map.edge', header=None, names=['start', 'end', 'length', 'bidirectional', 'name'])\n",
    "edges.head()"
   ]
  },
  {
   "cell_type": "code",
   "execution_count": null,
   "id": "8fc48a3b-499b-4336-bb30-e8d2ca50c2bc",
   "metadata": {},
   "outputs": [],
   "source": []
  }
 ],
 "metadata": {
  "kernelspec": {
   "display_name": "Python 3 (ipykernel)",
   "language": "python",
   "name": "python3"
  },
  "language_info": {
   "codemirror_mode": {
    "name": "ipython",
    "version": 3
   },
   "file_extension": ".py",
   "mimetype": "text/x-python",
   "name": "python",
   "nbconvert_exporter": "python",
   "pygments_lexer": "ipython3",
   "version": "3.9.6"
  }
 },
 "nbformat": 4,
 "nbformat_minor": 5
}
