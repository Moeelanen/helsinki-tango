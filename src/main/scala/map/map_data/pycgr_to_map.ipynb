{
 "cells": [
  {
   "cell_type": "code",
   "execution_count": 15,
   "id": "dc4c4574-787d-4c30-a030-9e5ccd7df4de",
   "metadata": {},
   "outputs": [],
   "source": [
    "import pandas as pd\n",
    "import os"
   ]
  },
  {
   "cell_type": "code",
   "execution_count": 16,
   "id": "26d2e968-4153-4f59-847e-7a0389ca4eba",
   "metadata": {},
   "outputs": [],
   "source": [
    "with open('raw/helsinki.pycgr', 'r') as file:\n",
    "    data = file.readlines()\n",
    "    node_count = int(data[7])\n",
    "    edge_count = int(data[8])\n",
    "    data = data[9:]\n",
    "    \n",
    "    \n",
    "    node_data = data[:node_count]\n",
    "    edge_data = data[-edge_count:]\n",
    "    \n",
    "    for i, node in enumerate(node_data):\n",
    "        a, b, c = node.split(' ')\n",
    "        node_data[i] = [int(a), float(b), float(c)]\n",
    "        \n",
    "    for i, edge in enumerate(edge_data):\n",
    "        source, target, length, road_type, limit, bidirectional = edge.split(' ')\n",
    "        edge_data[i] = [int(source), int(target), float(length), not (bool(int(bidirectional)))]"
   ]
  },
  {
   "cell_type": "code",
   "execution_count": 26,
   "id": "5037dd09-bc0b-4442-a3f2-ba1e66e8ec9e",
   "metadata": {},
   "outputs": [
    {
     "name": "stdout",
     "output_type": "stream",
     "text": [
      "0\n",
      "10000\n",
      "20000\n",
      "30000\n",
      "40000\n",
      "50000\n",
      "60000\n",
      "70000\n",
      "80000\n",
      "90000\n",
      "100000\n",
      "110000\n",
      "120000\n",
      "130000\n",
      "140000\n",
      "150000\n",
      "160000\n",
      "170000\n",
      "180000\n",
      "190000\n",
      "200000\n",
      "210000\n",
      "220000\n",
      "230000\n"
     ]
    }
   ],
   "source": [
    "with open('raw/helsinki.pycgr_names', 'r') as name_file:\n",
    "    name_data = name_file.readlines()\n",
    "    for i, line in enumerate(name_data):\n",
    "        name_data[i] = line[:-1]\n",
    "        if (i % 10000 == 0):\n",
    "            print(i)"
   ]
  },
  {
   "cell_type": "code",
   "execution_count": 27,
   "id": "2c540ca6-60ab-404e-87cb-071f99830193",
   "metadata": {},
   "outputs": [],
   "source": [
    "node_df = pd.DataFrame(node_data, columns=['id', 'lat', 'lon'])\n",
    "edge_df = pd.DataFrame(edge_data, columns=['source', 'target', 'length', 'bidirectional'])\n",
    "name_df = pd.DataFrame(name_data, columns=['name'])\n",
    "edge_df = edge_df.join(name_df)"
   ]
  },
  {
   "cell_type": "code",
   "execution_count": 29,
   "id": "dc7f2523-b4c6-4995-80db-7b053ac661ce",
   "metadata": {},
   "outputs": [
    {
     "data": {
      "text/html": [
       "<div>\n",
       "<style scoped>\n",
       "    .dataframe tbody tr th:only-of-type {\n",
       "        vertical-align: middle;\n",
       "    }\n",
       "\n",
       "    .dataframe tbody tr th {\n",
       "        vertical-align: top;\n",
       "    }\n",
       "\n",
       "    .dataframe thead th {\n",
       "        text-align: right;\n",
       "    }\n",
       "</style>\n",
       "<table border=\"1\" class=\"dataframe\">\n",
       "  <thead>\n",
       "    <tr style=\"text-align: right;\">\n",
       "      <th></th>\n",
       "      <th>source</th>\n",
       "      <th>target</th>\n",
       "      <th>length</th>\n",
       "      <th>bidirectional</th>\n",
       "      <th>name</th>\n",
       "    </tr>\n",
       "  </thead>\n",
       "  <tbody>\n",
       "    <tr>\n",
       "      <th>234475</th>\n",
       "      <td>115734</td>\n",
       "      <td>73577</td>\n",
       "      <td>6.37</td>\n",
       "      <td>True</td>\n",
       "      <td>Koirasaarentie</td>\n",
       "    </tr>\n",
       "    <tr>\n",
       "      <th>234476</th>\n",
       "      <td>9980</td>\n",
       "      <td>73574</td>\n",
       "      <td>6.29</td>\n",
       "      <td>True</td>\n",
       "      <td>Koirasaarentie</td>\n",
       "    </tr>\n",
       "    <tr>\n",
       "      <th>234477</th>\n",
       "      <td>73574</td>\n",
       "      <td>73578</td>\n",
       "      <td>17.66</td>\n",
       "      <td>True</td>\n",
       "      <td>Koirasaarentie</td>\n",
       "    </tr>\n",
       "    <tr>\n",
       "      <th>234478</th>\n",
       "      <td>105495</td>\n",
       "      <td>223526</td>\n",
       "      <td>9.47</td>\n",
       "      <td>True</td>\n",
       "      <td>Pirkkolantie</td>\n",
       "    </tr>\n",
       "    <tr>\n",
       "      <th>234479</th>\n",
       "      <td>223526</td>\n",
       "      <td>223528</td>\n",
       "      <td>14.39</td>\n",
       "      <td>True</td>\n",
       "      <td>Pirkkolantie</td>\n",
       "    </tr>\n",
       "  </tbody>\n",
       "</table>\n",
       "</div>"
      ],
      "text/plain": [
       "        source  target  length  bidirectional            name\n",
       "234475  115734   73577    6.37           True  Koirasaarentie\n",
       "234476    9980   73574    6.29           True  Koirasaarentie\n",
       "234477   73574   73578   17.66           True  Koirasaarentie\n",
       "234478  105495  223526    9.47           True    Pirkkolantie\n",
       "234479  223526  223528   14.39           True    Pirkkolantie"
      ]
     },
     "execution_count": 29,
     "metadata": {},
     "output_type": "execute_result"
    }
   ],
   "source": [
    "edge_df.tail()"
   ]
  },
  {
   "cell_type": "code",
   "execution_count": 30,
   "id": "a5f29a7d-c1f2-4517-9ca7-976e35e7d9ce",
   "metadata": {},
   "outputs": [],
   "source": [
    "node_df.to_csv('processed/map.node', encoding='UTF-8', index=False, header=False)\n",
    "edge_df.to_csv('processed/map.edge', encoding='UTF-8', index=False, header=False)"
   ]
  },
  {
   "cell_type": "code",
   "execution_count": null,
   "id": "39a6e367-ecc3-4727-a00a-b6c79609de51",
   "metadata": {},
   "outputs": [],
   "source": []
  }
 ],
 "metadata": {
  "kernelspec": {
   "display_name": "Python 3 (ipykernel)",
   "language": "python",
   "name": "python3"
  },
  "language_info": {
   "codemirror_mode": {
    "name": "ipython",
    "version": 3
   },
   "file_extension": ".py",
   "mimetype": "text/x-python",
   "name": "python",
   "nbconvert_exporter": "python",
   "pygments_lexer": "ipython3",
   "version": "3.9.6"
  }
 },
 "nbformat": 4,
 "nbformat_minor": 5
}
