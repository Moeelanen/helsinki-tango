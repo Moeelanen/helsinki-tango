{
 "cells": [
  {
   "cell_type": "code",
   "execution_count": 1,
   "id": "bdcd4b08-9db6-4325-82b0-b3abb45f70da",
   "metadata": {},
   "outputs": [],
   "source": [
    "import networkx as nx"
   ]
  },
  {
   "cell_type": "code",
   "execution_count": 2,
   "id": "445b654f-e99f-4d33-abc4-f29b0809dbe3",
   "metadata": {},
   "outputs": [],
   "source": [
    "G = nx.Graph()"
   ]
  },
  {
   "cell_type": "code",
   "execution_count": 3,
   "id": "cf0ec4be-3d5d-4329-8e7c-9ac35fcabe28",
   "metadata": {},
   "outputs": [
    {
     "name": "stdout",
     "output_type": "stream",
     "text": [
      "['node 1', 'node 2', 'node 3', 'node 4', 'node 5']\n",
      "123\n"
     ]
    }
   ],
   "source": [
    "G.add_node(\"node 1\")\n",
    "G.add_nodes_from([\"node 2\", \"node 3\"])\n",
    "G.add_nodes_from([(\"node 4\", {\"abc\": 123}), (\"node 5\", {\"abc\": 0})])\n",
    "print(G.nodes)\n",
    "print(G.nodes[\"node 4\"][\"abc\"]) # accessed like a dictionary"
   ]
  },
  {
   "cell_type": "code",
   "execution_count": 4,
   "id": "9062be7b-8ab0-4d5f-bd7b-7e2f0e09de85",
   "metadata": {},
   "outputs": [],
   "source": [
    "G.add_edge(\"node 1\", \"node 2\")\n",
    "G.add_edge(\"node 1\", \"node 6\")\n",
    "G.add_edges_from([(\"node 1\", \"node 3\"), \n",
    "                  (\"node 3\", \"node 4\")])\n",
    "G.add_edges_from([(\"node 1\", \"node 5\", {\"weight\" : 3}), \n",
    "                  (\"node 2\", \"node 4\", {\"weight\" : 5})])"
   ]
  },
  {
   "cell_type": "code",
   "execution_count": 5,
   "id": "4e4b9736-6b42-4e4f-a412-497ee691b86f",
   "metadata": {},
   "outputs": [
    {
     "name": "stdout",
     "output_type": "stream",
     "text": [
      "['node 1', 'node 2', 'node 3', 'node 4', 'node 5', 'node 6']\n",
      "[('node 1', 'node 2'), ('node 1', 'node 6'), ('node 1', 'node 3'), ('node 1', 'node 5'), ('node 2', 'node 4'), ('node 3', 'node 4')]\n",
      "{'node 2': {}, 'node 6': {}, 'node 3': {}, 'node 5': {'weight': 3}}\n",
      "{'weight': 3}\n"
     ]
    }
   ],
   "source": [
    "print(G.nodes)\n",
    "print(G.edges)\n",
    "print(G[\"node 1\"])\n",
    "print(G[\"node 1\"][\"node 5\"])"
   ]
  },
  {
   "cell_type": "code",
   "execution_count": 9,
   "id": "1a190b15-da84-4852-bc58-01562ee9fea6",
   "metadata": {},
   "outputs": [
    {
     "data": {
      "image/png": "[encoded data removed]",
      "text/plain": [
       "<Figure size 432x288 with 1 Axes>"
      ]
     },
     "metadata": {},
     "output_type": "display_data"
    }
   ],
   "source": [
    "nx.draw(G)"
   ]
  }
 ],
 "metadata": {
  "kernelspec": {
   "display_name": "Python 3 (ipykernel)",
   "language": "python",
   "name": "python3"
  },
  "language_info": {
   "codemirror_mode": {
    "name": "ipython",
    "version": 3
   },
   "file_extension": ".py",
   "mimetype": "text/x-python",
   "name": "python",
   "nbconvert_exporter": "python",
   "pygments_lexer": "ipython3",
   "version": "3.8.10"
  }
 },
 "nbformat": 4,
 "nbformat_minor": 5
}
